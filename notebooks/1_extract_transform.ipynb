{
 "cells": [
  {
   "cell_type": "markdown",
   "id": "2060f26b",
   "metadata": {},
   "source": [
    "## ETL"
   ]
  },
  {
   "cell_type": "code",
   "execution_count": 4,
   "id": "f21f456a",
   "metadata": {},
   "outputs": [],
   "source": [
    "# Import pandas for data manipulation\n",
    "import pandas as pd\n",
    "\n",
    "# Import StandardScaler for normalization\n",
    "from sklearn.preprocessing import StandardScaler\n",
    "\n",
    "# Import regular expressions for pattern matching\n",
    "import re\n",
    "\n",
    "# Configuration for ETL process\n",
    "input_csv = '../data/raw.csv'         # Path to input raw CSV file\n",
    "output_csv = '../data/transformed.csv' # Path to output transformed CSV file\n",
    "chunksize = 100000                    # Number of rows to process"
   ]
  },
  {
   "cell_type": "markdown",
   "id": "1b7ea6b4",
   "metadata": {},
   "source": [
    "### 1. Define required columns"
   ]
  },
  {
   "cell_type": "code",
   "execution_count": 7,
   "id": "e1dccc92",
   "metadata": {},
   "outputs": [],
   "source": [
    "# Define the columns to retain in the final transformed dataset.\n",
    "# These fields are essential for IT job market analysis.\n",
    "required_columns = [\n",
    "    'title',                 # Job title\n",
    "    'description',           # Job description\n",
    "    'max_salary',            # Maximum salary offered\n",
    "    'med_salary',            # Median salary offered\n",
    "    'min_salary',            # Minimum salary offered\n",
    "    'company',               # Company offering the job\n",
    "    'company_size',          # Size of the company   \n",
    "    'pay_period',            # Period for salary payment (e.g., monthly, yearly)\n",
    "    'formatted_work_type',   # Type of work (e.g., full-time, part-time)     \n",
    "    'location',              # Job location\n",
    "    'applies',               # Number of applications received\n",
    "    'original_listed_time',  # Time when the job was originally listed   \n",
    "    'remote_allowed',        # Whether remote work is allowed \n",
    "    'views',                # Number of views the job listing has received\n",
    "    'formatted_experience_level'   # Experience level required for the job\n",
    "]"
   ]
  },
  {
   "cell_type": "markdown",
   "id": "d8caa928",
   "metadata": {},
   "source": [
    "### 2. Using word boundaries to extract IT jobs"
   ]
  },
  {
   "cell_type": "code",
   "execution_count": 3,
   "id": "d9a4e716",
   "metadata": {},
   "outputs": [],
   "source": [
    "it_patterns = [\n",
    "    r\"\\bIT\\b\",\n",
    "    r\"\\bInformation Technology\\b\",\n",
    "    r\"\\bSoftware\\b\",\n",
    "    r\"\\bDeveloper\\b\",\n",
    "    r\"\\bEngineer\\b\",\n",
    "    r\"\\bProgrammer\\b\",\n",
    "    r\"\\bTech\\b\",\n",
    "    r\"\\bData\\b\",\n",
    "    r\"\\bCloud\\b\",\n",
    "    r\"\\bSystem\\b\",\n",
    "    r\"\\bNetwork\\b\"\n",
    "]"
   ]
  },
  {
   "cell_type": "markdown",
   "id": "74a325db",
   "metadata": {},
   "source": [
    "### 3. Exclude non-IT engineering roles"
   ]
  },
  {
   "cell_type": "code",
   "execution_count": 13,
   "id": "72d5b88b",
   "metadata": {},
   "outputs": [],
   "source": [
    "exclude_patterns = [\n",
    "    r\"\\bBuilding\\b\",\n",
    "    r\"\\bHVAC\\b\",\n",
    "    r\"\\bMaintenance\\b\",\n",
    "    r\"\\bFacilities?\\b\",\n",
    "    r\"\\bStaff\\b\",\n",
    "    r\"\\bConstruction\\b\",\n",
    "    r\"\\bMechanical\\b\",\n",
    "    r\"\\bElectrical\\b\",\n",
    "    r\"\\bCivil\\b\",\n",
    "    r\"\\bManufacturing\\b\",\n",
    "    r\"\\bProject Manager\\b\",\n",
    "    r\"\\bProject Engineer\\b\",\n",
    "    r\"\\bQuality\\b\",\n",
    "    r\"\\bSafety\\b\",\n",
    "    r\"\\bLogistics\\b\",\n",
    "    r\"\\bSupply Chain\\b\",\n",
    "    r\"\\bField\\b\",\n",
    "    r\"\\bService\\b\",\n",
    "    r\"\\bSupport\\b\", \n",
    "    r\"\\bStructural\\b\",\n",
    "    r\"\\bProcess\\b\", \n",
    "    r\"\\bDesign\\b\",\n",
    "    r\"\\bInfrastructure\\b\",\n",
    "    r\"\\bEnergy\\b\",\n",
    "]"
   ]
  },
  {
   "cell_type": "markdown",
   "id": "e7b7ebe0",
   "metadata": {},
   "source": [
    "### 4. Exclude unwanted roles and check for IT job patterns"
   ]
  },
  {
   "cell_type": "code",
   "execution_count": 14,
   "id": "a0bc42ee",
   "metadata": {},
   "outputs": [],
   "source": [
    "def is_it_job(title):\n",
    "    if pd.isna(title):\n",
    "        return False\n",
    "    if any(re.search(pat, title, re.IGNORECASE) for pat in exclude_patterns):\n",
    "        return False\n",
    "    return any(re.search(pat, title, re.IGNORECASE) for pat in it_patterns)"
   ]
  },
  {
   "cell_type": "markdown",
   "id": "a531666f",
   "metadata": {},
   "source": [
    "### 5. Filter and select only required columns"
   ]
  },
  {
   "cell_type": "code",
   "execution_count": 15,
   "id": "ddad5ca4",
   "metadata": {},
   "outputs": [
    {
     "name": "stdout",
     "output_type": "stream",
     "text": [
      "Processed chunk 1\n",
      "Processed chunk 2\n",
      "ETL complete. Output saved to ../data/transformed.csv\n"
     ]
    }
   ],
   "source": [
    "with pd.read_csv(input_csv, chunksize=chunksize) as reader:\n",
    "    for i, chunk in enumerate(reader):\n",
    "        it_jobs = chunk[chunk['title'].apply(is_it_job)]\n",
    "\n",
    "        for col in required_columns:\n",
    "            if col not in it_jobs.columns:\n",
    "                it_jobs[col] = pd.NA\n",
    "        it_jobs = it_jobs[required_columns]\n",
    "\n",
    "        if i == 0:\n",
    "            it_jobs.to_csv(output_csv, index=False, mode='w')\n",
    "        else:\n",
    "            it_jobs.to_csv(output_csv, index=False, mode='a', header=False)\n",
    "\n",
    "        print(f\"Processed chunk {i+1}\")\n",
    "\n",
    "print(\"ETL complete. Output saved to\", output_csv)"
   ]
  },
  {
   "cell_type": "markdown",
   "id": "cec15cd6",
   "metadata": {},
   "source": [
    "### 6.  Convert UNIX Timestamp to 24-Hour Time\n"
   ]
  },
  {
   "cell_type": "code",
   "execution_count": 16,
   "id": "992f22a9",
   "metadata": {},
   "outputs": [
    {
     "name": "stdout",
     "output_type": "stream",
     "text": [
      "Processed chunk 1\n",
      "Processed chunk 2\n",
      "ETL complete. Output saved to ../data/transformed.csv\n"
     ]
    }
   ],
   "source": [
    "with pd.read_csv(input_csv, chunksize=chunksize) as reader:\n",
    "    for i, chunk in enumerate(reader):\n",
    "        it_jobs = chunk[chunk['title'].apply(is_it_job)]\n",
    "\n",
    "        for col in required_columns:\n",
    "            if col not in it_jobs.columns:\n",
    "                it_jobs[col] = pd.NA\n",
    "\n",
    "        it_jobs = it_jobs[required_columns]\n",
    "\n",
    "        # Convert original_listed_time from ms to datetime\n",
    "        it_jobs['original_listed_time'] = pd.to_datetime(\n",
    "            it_jobs['original_listed_time'], unit='ms', errors='coerce'\n",
    "        )\n",
    "\n",
    "        # Create new columns\n",
    "        it_jobs['listed_date'] = it_jobs['original_listed_time'].dt.date\n",
    "        it_jobs['listed_time_24hr'] = it_jobs['original_listed_time'].dt.time\n",
    "\n",
    "        # Drop original_listed_time\n",
    "        it_jobs = it_jobs.drop(columns=['original_listed_time'])\n",
    "\n",
    "        if i == 0:\n",
    "            it_jobs.to_csv(output_csv, index=False, mode='w')\n",
    "        else:\n",
    "            it_jobs.to_csv(output_csv, index=False, mode='a', header=False)\n",
    "\n",
    "        print(f\"Processed chunk {i+1}\")\n",
    "\n",
    "print(\"ETL complete. Output saved to\", output_csv)\n"
   ]
  },
  {
   "cell_type": "markdown",
   "id": "286c9532",
   "metadata": {},
   "source": [
    "### 7. Standardization (Z-score normalization)"
   ]
  },
  {
   "cell_type": "code",
   "execution_count": 17,
   "id": "81686cea",
   "metadata": {},
   "outputs": [],
   "source": [
    "\n",
    "\n",
    "# Standardize numerical columns\n",
    "scaler = StandardScaler()\n",
    "numerical_cols = ['min_salary', 'max_salary']  # example numeric columns\n",
    "it_jobs[numerical_cols] = scaler.fit_transform(it_jobs[numerical_cols])\n"
   ]
  },
  {
   "cell_type": "markdown",
   "id": "d380aa7e",
   "metadata": {},
   "source": [
    "### 8. Fill Missing Data"
   ]
  },
  {
   "cell_type": "code",
   "execution_count": 18,
   "id": "702fa5a0",
   "metadata": {},
   "outputs": [
    {
     "name": "stdout",
     "output_type": "stream",
     "text": [
      "Remaining missing values:\n",
      " title                         0\n",
      "description                   0\n",
      "max_salary                    0\n",
      "med_salary                    0\n",
      "min_salary                    0\n",
      "pay_period                    0\n",
      "formatted_work_type           0\n",
      "location                      0\n",
      "applies                       0\n",
      "remote_allowed                0\n",
      "views                         0\n",
      "formatted_experience_level    0\n",
      "listed_date                   0\n",
      "listed_time_24hr              0\n",
      "dtype: int64\n",
      "ETL complete. Output saved to ../data/transformed.csv\n"
     ]
    }
   ],
   "source": [
    "# Replace empty strings and non-standard nulls with actual NaN\n",
    "it_jobs = it_jobs.replace(r'^\\s*$', pd.NA, regex=True)\n",
    "it_jobs = it_jobs.replace({'nan': pd.NA, 'NaN': pd.NA, 'none': pd.NA, 'None': pd.NA})\n",
    "\n",
    "# Fill missing 'location' with a constant\n",
    "if 'location' in it_jobs.columns:\n",
    "    it_jobs['location'] = it_jobs['location'].fillna('Unknown')\n",
    "\n",
    "# Convert 'min_salary' to numeric and fill with mean if possible\n",
    "if 'min_salary' in it_jobs.columns:\n",
    "    it_jobs['min_salary'] = pd.to_numeric(it_jobs['min_salary'], errors='coerce')\n",
    "    if it_jobs['min_salary'].notna().any():\n",
    "        mean_salary = it_jobs['min_salary'].mean()\n",
    "        it_jobs['min_salary'] = it_jobs['min_salary'].fillna(mean_salary)\n",
    "    else:\n",
    "        it_jobs['min_salary'] = it_jobs['min_salary'].fillna(0)\n",
    "\n",
    "# Fill 'pay_period' with mode or default\n",
    "if 'pay_period' in it_jobs.columns:\n",
    "    mode_pay_period = it_jobs['pay_period'].mode(dropna=True)\n",
    "    if not mode_pay_period.empty:\n",
    "        it_jobs['pay_period'] = it_jobs['pay_period'].fillna(mode_pay_period[0])\n",
    "    else:\n",
    "        it_jobs['pay_period'] = it_jobs['pay_period'].fillna('Not Specified')\n",
    "\n",
    "# Fill 'remote_allowed' with False\n",
    "if 'remote_allowed' in it_jobs.columns:\n",
    "    it_jobs['remote_allowed'] = it_jobs['remote_allowed'].fillna(False)\n",
    "\n",
    "# Forward and backward fill any remaining missing values\n",
    "it_jobs = it_jobs.ffill().bfill()\n",
    "\n",
    "# Check cleanup\n",
    "print(\"Remaining missing values:\\n\", it_jobs.isna().sum())\n",
    "print(\"ETL complete. Output saved to\", output_csv)"
   ]
  }
 ],
 "metadata": {
  "kernelspec": {
   "display_name": "Python 3",
   "language": "python",
   "name": "python3"
  },
  "language_info": {
   "codemirror_mode": {
    "name": "ipython",
    "version": 3
   },
   "file_extension": ".py",
   "mimetype": "text/x-python",
   "name": "python",
   "nbconvert_exporter": "python",
   "pygments_lexer": "ipython3",
   "version": "3.12.10"
  }
 },
 "nbformat": 4,
 "nbformat_minor": 5
}
